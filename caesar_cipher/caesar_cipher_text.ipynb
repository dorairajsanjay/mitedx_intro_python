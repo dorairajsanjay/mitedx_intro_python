{
 "cells": [
  {
   "cell_type": "code",
   "execution_count": 52,
   "metadata": {
    "collapsed": true
   },
   "outputs": [],
   "source": [
    "\n",
    "### DO NOT MODIFY THIS FUNCTION ###\n",
    "def load_words(file_name):\n",
    "    '''\n",
    "    file_name (string): the name of the file containing \n",
    "    the list of words to load    \n",
    "    \n",
    "    Returns: a list of valid words. Words are strings of lowercase letters.\n",
    "    \n",
    "    Depending on the size of the word list, this function may\n",
    "    take a while to finish.\n",
    "    '''\n",
    "    print('Loading word list from file...')\n",
    "    # inFile: file\n",
    "    in_file = open(file_name, 'r')\n",
    "    # line: string\n",
    "    line = in_file.readline()\n",
    "    # word_list: list of strings\n",
    "    word_list = line.split()\n",
    "    print('  ', len(word_list), 'words loaded.')\n",
    "    in_file.close()\n",
    "    return word_list"
   ]
  },
  {
   "cell_type": "code",
   "execution_count": 53,
   "metadata": {
    "collapsed": true
   },
   "outputs": [],
   "source": [
    "### DO NOT MODIFY THIS FUNCTION ###\n",
    "def is_word(word_list, word):\n",
    "    '''\n",
    "    Determines if word is a valid word, ignoring\n",
    "    capitalization and punctuation\n",
    "\n",
    "    word_list (list): list of words in the dictionary.\n",
    "    word (string): a possible word.\n",
    "    \n",
    "    Returns: True if word is in word_list, False otherwise\n",
    "\n",
    "    Example:\n",
    "    >>> is_word(word_list, 'bat') returns\n",
    "    True\n",
    "    >>> is_word(word_list, 'asdf') returns\n",
    "    False\n",
    "    '''\n",
    "    word = word.lower()\n",
    "    word = word.strip(\" !@#$%^&*()-_+={}[]|\\:;'<>?,./\\\"\")\n",
    "    return word in word_list"
   ]
  },
  {
   "cell_type": "code",
   "execution_count": null,
   "metadata": {
    "collapsed": true
   },
   "outputs": [],
   "source": [
    "\n",
    "### DO NOT MODIFY THIS FUNCTION ###\n",
    "def get_story_string():\n",
    "    \"\"\"\n",
    "    Returns: a joke in encrypted text.\n",
    "    \"\"\"\n",
    "    f = open(\"story.txt\", \"r\")\n",
    "    story = str(f.read())\n",
    "    f.close()\n",
    "    return story\n",
    "\n",
    "WORDLIST_FILENAME = 'words.txt'"
   ]
  },
  {
   "cell_type": "code",
   "execution_count": null,
   "metadata": {
    "collapsed": true
   },
   "outputs": [],
   "source": [
    "WORDLIST_FILENAME = 'words.txt'\n",
    "\n",
    "class Message(object):\n",
    "    ### DO NOT MODIFY THIS METHOD ###\n",
    "    def __init__(self, text):\n",
    "        '''\n",
    "        Initializes a Message object\n",
    "                \n",
    "        text (string): the message's text\n",
    "\n",
    "        a Message object has two attributes:\n",
    "            self.message_text (string, determined by input text)\n",
    "            self.valid_words (list, determined using helper function load_words\n",
    "        '''\n",
    "        self.message_text = text\n",
    "        self.valid_words = load_words(WORDLIST_FILENAME)\n",
    "\n",
    "    ### DO NOT MODIFY THIS METHOD ###\n",
    "    def get_message_text(self):\n",
    "        '''\n",
    "        Used to safely access self.message_text outside of the class\n",
    "        \n",
    "        Returns: self.message_text\n",
    "        '''\n",
    "        return self.message_text\n",
    "\n",
    "    ### DO NOT MODIFY THIS METHOD ###\n",
    "    def get_valid_words(self):\n",
    "        '''\n",
    "        Used to safely access a copy of self.valid_words outside of the class\n",
    "        \n",
    "        Returns: a COPY of self.valid_words\n",
    "        '''\n",
    "        return self.valid_words[:]\n",
    "        \n",
    "    def build_shift_dict(self, shift):\n",
    "        '''\n",
    "        Creates a dictionary that can be used to apply a cipher to a letter.\n",
    "        The dictionary maps every uppercase and lowercase letter to a\n",
    "        character shifted down the alphabet by the input shift. The dictionary\n",
    "        should have 52 keys of all the uppercase letters and all the lowercase\n",
    "        letters only.        \n",
    "        \n",
    "        shift (integer): the amount by which to shift every letter of the \n",
    "        alphabet. 0 <= shift < 26\n",
    "\n",
    "        Returns: a dictionary mapping a letter (string) to \n",
    "                 another letter (string). \n",
    "        '''\n",
    "        if shift > 26:\n",
    "            print(\"Shift must be less than 27\")\n",
    "            return {}\n",
    "\n",
    "        alists = [string.ascii_lowercase,string.ascii_uppercase]\n",
    "\n",
    "        shift_dict = {}\n",
    "\n",
    "        for alist in alists:\n",
    "\n",
    "            for letter in alist:\n",
    "\n",
    "                index = alist.index(letter)\n",
    "\n",
    "                new_index = index + shift\n",
    "                if new_index > 25: \n",
    "                    new_index = new_index - 26 \n",
    "\n",
    "                shift_dict[letter] = alist[new_index]\n",
    "\n",
    "        return shift_dict\n",
    "\n",
    "    def apply_shift(self, shift):\n",
    "        '''\n",
    "        Applies the Caesar Cipher to self.message_text with the input shift.\n",
    "        Creates a new string that is self.message_text shifted down the\n",
    "        alphabet by some number of characters determined by the input shift        \n",
    "        \n",
    "        shift (integer): the shift with which to encrypt the message.\n",
    "        0 <= shift < 26\n",
    "\n",
    "        Returns: the message text (string) in which every character is shifted\n",
    "             down the alphabet by the input shift\n",
    "        '''\n",
    "        shift_dict = self.build_shift_dict(shift)\n",
    "\n",
    "        encrypted_text = []\n",
    "\n",
    "        for letter in self.message_text:\n",
    "            if letter in shift_dict.keys():\n",
    "                encrypted_letter = shift_dict[letter]\n",
    "            else:\n",
    "                encrypted_letter = letter\n",
    "\n",
    "            encrypted_text.append(encrypted_letter)\n",
    "\n",
    "        return \"\".join(encrypted_text)"
   ]
  },
  {
   "cell_type": "code",
   "execution_count": null,
   "metadata": {
    "collapsed": true
   },
   "outputs": [],
   "source": [
    "class PlaintextMessage(Message):\n",
    "    def __init__(self, text, shift):\n",
    "        '''\n",
    "        Initializes a PlaintextMessage object        \n",
    "        \n",
    "        text (string): the message's text\n",
    "        shift (integer): the shift associated with this message\n",
    "\n",
    "        A PlaintextMessage object inherits from Message and has five attributes:\n",
    "            self.message_text (string, determined by input text)\n",
    "            self.valid_words (list, determined using helper function load_words)\n",
    "            self.shift (integer, determined by input shift)\n",
    "            self.encrypting_dict (dictionary, built using shift)\n",
    "            self.message_text_encrypted (string, created using shift)\n",
    "\n",
    "        Hint: consider using the parent class constructor so less \n",
    "        code is repeated\n",
    "        '''\n",
    "        pass #delete this line and replace with your code here\n",
    "\n",
    "    def get_shift(self):\n",
    "        '''\n",
    "        Used to safely access self.shift outside of the class\n",
    "        \n",
    "        Returns: self.shift\n",
    "        '''\n",
    "        pass #delete this line and replace with your code here\n",
    "\n",
    "    def get_encrypting_dict(self):\n",
    "        '''\n",
    "        Used to safely access a copy self.encrypting_dict outside of the class\n",
    "        \n",
    "        Returns: a COPY of self.encrypting_dict\n",
    "        '''\n",
    "        pass #delete this line and replace with your code here\n",
    "\n",
    "    def get_message_text_encrypted(self):\n",
    "        '''\n",
    "        Used to safely access self.message_text_encrypted outside of the class\n",
    "        \n",
    "        Returns: self.message_text_encrypted\n",
    "        '''\n",
    "        pass #delete this line and replace with your code here\n",
    "\n",
    "    def change_shift(self, shift):\n",
    "        '''\n",
    "        Changes self.shift of the PlaintextMessage and updates other \n",
    "        attributes determined by shift (ie. self.encrypting_dict and \n",
    "        message_text_encrypted).\n",
    "        \n",
    "        shift (integer): the new shift that should be associated with this message.\n",
    "        0 <= shift < 26\n",
    "\n",
    "        Returns: nothing\n",
    "        '''\n",
    "        pass #delete this line and replace with your code here"
   ]
  },
  {
   "cell_type": "code",
   "execution_count": null,
   "metadata": {
    "collapsed": true
   },
   "outputs": [],
   "source": [
    "class CiphertextMessage(Message):\n",
    "    def __init__(self, text):\n",
    "        '''\n",
    "        Initializes a CiphertextMessage object\n",
    "                \n",
    "        text (string): the message's text\n",
    "\n",
    "        a CiphertextMessage object has two attributes:\n",
    "            self.message_text (string, determined by input text)\n",
    "            self.valid_words (list, determined using helper function load_words)\n",
    "        '''\n",
    "        pass #delete this line and replace with your code here\n",
    "\n",
    "    def decrypt_message(self):\n",
    "        '''\n",
    "        Decrypt self.message_text by trying every possible shift value\n",
    "        and find the \"best\" one. We will define \"best\" as the shift that\n",
    "        creates the maximum number of real words when we use apply_shift(shift)\n",
    "        on the message text. If s is the original shift value used to encrypt\n",
    "        the message, then we would expect 26 - s to be the best shift value \n",
    "        for decrypting it.\n",
    "\n",
    "        Note: if multiple shifts are  equally good such that they all create \n",
    "        the maximum number of you may choose any of those shifts (and their\n",
    "        corresponding decrypted messages) to return\n",
    "\n",
    "        Returns: a tuple of the best shift value used to decrypt the message\n",
    "        and the decrypted message text using that shift value\n",
    "        '''\n",
    "        pass #delete this line and replace with your code here"
   ]
  },
  {
   "cell_type": "code",
   "execution_count": null,
   "metadata": {
    "collapsed": true
   },
   "outputs": [],
   "source": [
    "#Example test case (PlaintextMessage)\n",
    "plaintext = PlaintextMessage('hello', 2)\n",
    "print('Expected Output: jgnnq')\n",
    "print('Actual Output:', plaintext.get_message_text_encrypted())\n",
    "    \n",
    "#Example test case (CiphertextMessage)\n",
    "ciphertext = CiphertextMessage('jgnnq')\n",
    "print('Expected Output:', (24, 'hello'))\n",
    "print('Actual Output:', ciphertext.decrypt_message())"
   ]
  },
  {
   "cell_type": "code",
   "execution_count": 34,
   "metadata": {
    "collapsed": false
   },
   "outputs": [],
   "source": [
    "import string\n",
    "\n",
    "def build_shift_dict(shift):\n",
    "    '''\n",
    "    Creates a dictionary that can be used to apply a cipher to a letter.\n",
    "    The dictionary maps every uppercase and lowercase letter to a\n",
    "    character shifted down the alphabet by the input shift. The dictionary\n",
    "    should have 52 keys of all the uppercase letters and all the lowercase\n",
    "    letters only.        \n",
    "\n",
    "    shift (integer): the amount by which to shift every letter of the \n",
    "    alphabet. 0 <= shift < 26\n",
    "\n",
    "    Returns: a dictionary mapping a letter (string) to \n",
    "             another letter (string). \n",
    "    '''\n",
    "    \n",
    "    if shift > 26:\n",
    "        print(\"Shift must be less than 27\")\n",
    "        return {}\n",
    "    \n",
    "    alists = [string.ascii_lowercase,string.ascii_uppercase]\n",
    "    \n",
    "    shift_dict = {}\n",
    "    \n",
    "    for alist in alists:\n",
    "        \n",
    "        for letter in alist:\n",
    "\n",
    "            index = alist.index(letter)\n",
    "\n",
    "            new_index = index + shift\n",
    "            if new_index > 25: \n",
    "                new_index = new_index - 26 \n",
    "\n",
    "            shift_dict[letter] = alist[new_index]\n",
    "    \n",
    "    return shift_dict"
   ]
  },
  {
   "cell_type": "code",
   "execution_count": 38,
   "metadata": {
    "collapsed": false
   },
   "outputs": [
    {
     "name": "stdout",
     "output_type": "stream",
     "text": [
      "{'a': 'a', 'b': 'b', 'c': 'c', 'd': 'd', 'e': 'e', 'f': 'f', 'g': 'g', 'h': 'h', 'i': 'i', 'j': 'j', 'k': 'k', 'l': 'l', 'm': 'm', 'n': 'n', 'o': 'o', 'p': 'p', 'q': 'q', 'r': 'r', 's': 's', 't': 't', 'u': 'u', 'v': 'v', 'w': 'w', 'x': 'x', 'y': 'y', 'z': 'z', 'A': 'A', 'B': 'B', 'C': 'C', 'D': 'D', 'E': 'E', 'F': 'F', 'G': 'G', 'H': 'H', 'I': 'I', 'J': 'J', 'K': 'K', 'L': 'L', 'M': 'M', 'N': 'N', 'O': 'O', 'P': 'P', 'Q': 'Q', 'R': 'R', 'S': 'S', 'T': 'T', 'U': 'U', 'V': 'V', 'W': 'W', 'X': 'X', 'Y': 'Y', 'Z': 'Z'}\n"
     ]
    }
   ],
   "source": [
    "print(build_shift_dict(26))"
   ]
  },
  {
   "cell_type": "code",
   "execution_count": 60,
   "metadata": {
    "collapsed": true
   },
   "outputs": [],
   "source": [
    "def apply_shift(text, shift):\n",
    "    '''\n",
    "    Applies the Caesar Cipher to self.message_text with the input shift.\n",
    "    Creates a new string that is self.message_text shifted down the\n",
    "    alphabet by some number of characters determined by the input shift        \n",
    "\n",
    "    shift (integer): the shift with which to encrypt the message.\n",
    "    0 <= shift < 26\n",
    "\n",
    "    Returns: the message text (string) in which every character is shifted\n",
    "         down the alphabet by the input shift\n",
    "    '''\n",
    "\n",
    "    shift_dict = build_shift_dict(shift)\n",
    "    \n",
    "    encrypted_text = []\n",
    "    \n",
    "    for letter in text:\n",
    "        if letter in shift_dict.keys():\n",
    "            encrypted_letter = shift_dict[letter]\n",
    "        else:\n",
    "            encrypted_letter = letter\n",
    "            \n",
    "        encrypted_text.append(encrypted_letter)\n",
    "        \n",
    "    return \"\".join(encrypted_text)"
   ]
  },
  {
   "cell_type": "code",
   "execution_count": 73,
   "metadata": {
    "collapsed": false
   },
   "outputs": [
    {
     "name": "stdout",
     "output_type": "stream",
     "text": [
      "Uryyb Jbeyq Guvf vf zr!\n"
     ]
    }
   ],
   "source": [
    "print(apply_shift(\"Hello World This is me!\",13))"
   ]
  },
  {
   "cell_type": "code",
   "execution_count": 90,
   "metadata": {
    "collapsed": false
   },
   "outputs": [],
   "source": [
    "def decrypt_message(encrypted_text):\n",
    "    '''\n",
    "    Decrypt self.message_text by trying every possible shift value\n",
    "    and find the \"best\" one. We will define \"best\" as the shift that\n",
    "    creates the maximum number of real words when we use apply_shift(shift)\n",
    "    on the message text. If s is the original shift value used to encrypt\n",
    "    the message, then we would expect 26 - s to be the best shift value \n",
    "    for decrypting it.\n",
    "\n",
    "    Note: if multiple shifts are  equally good such that they all create \n",
    "    the maximum number of you may choose any of those shifts (and their\n",
    "    corresponding decrypted messages) to return\n",
    "\n",
    "    Returns: a tuple of the best shift value used to decrypt the message\n",
    "    and the decrypted message text using that shift value\n",
    "    '''\n",
    "    WORDLIST_FILENAME = 'words.txt'\n",
    "    word_list = load_words(WORDLIST_FILENAME)\n",
    "    \n",
    "    best_shift_value = 0\n",
    "    best_decrypted_text = \"\"\n",
    "    best_match_count = 0\n",
    "    \n",
    "    for shift_value in range(26):\n",
    "        \n",
    "        match_count = 0\n",
    "        words_text = encrypted_text.split(' ')\n",
    "        \n",
    "        decrypted_text = []\n",
    "        \n",
    "        for word in words_text:\n",
    "        \n",
    "            decrypted_word = apply_shift(word,26-shift_value)\n",
    "            \n",
    "            decrypted_text.append(decrypted_word)\n",
    "\n",
    "            if is_word(word_list,decrypted_word):\n",
    "                match_count += 1\n",
    "                \n",
    "        if match_count > best_match_count:\n",
    "            best_match_count = match_count\n",
    "            best_decrypted_text = \" \".join(decrypted_text)\n",
    "            best_shift_value = shift_value\n",
    "            \n",
    "    return(best_shift_value,best_decrypted_text)\n",
    "        "
   ]
  },
  {
   "cell_type": "code",
   "execution_count": 91,
   "metadata": {
    "collapsed": false
   },
   "outputs": [
    {
     "name": "stdout",
     "output_type": "stream",
     "text": [
      "Loading word list from file...\n",
      "   55901 words loaded.\n",
      "(13, 'Hello World This is me!')\n"
     ]
    }
   ],
   "source": [
    "print(decrypt_message(\"Uryyb Jbeyq Guvf vf zr!\"))"
   ]
  },
  {
   "cell_type": "code",
   "execution_count": null,
   "metadata": {
    "collapsed": true
   },
   "outputs": [],
   "source": []
  }
 ],
 "metadata": {
  "kernelspec": {
   "display_name": "Python 3",
   "language": "python",
   "name": "python3"
  },
  "language_info": {
   "codemirror_mode": {
    "name": "ipython",
    "version": 3
   },
   "file_extension": ".py",
   "mimetype": "text/x-python",
   "name": "python",
   "nbconvert_exporter": "python",
   "pygments_lexer": "ipython3",
   "version": "3.6.0"
  }
 },
 "nbformat": 4,
 "nbformat_minor": 2
}
